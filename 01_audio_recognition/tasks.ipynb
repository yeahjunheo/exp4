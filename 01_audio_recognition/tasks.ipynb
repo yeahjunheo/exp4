{
 "cells": [
  {
   "cell_type": "markdown",
   "metadata": {},
   "source": [
    "## Task 1\n",
    "\n",
    "数秒程度で「あいうえお」と発声し，これをサンプリング周波数16kHz，量子化ビット数16，モノラルで録音せよ．「あーいーうーえーおー」と区切らない連続的な発音と「あ・い・う・え・お」と一音ずつ区切った発音との2 種類を録音すること．保存した音声は必ず聴取し，以下の項目を確認すること．\n",
    "- 音量は必要十分で，小さすぎたり大きすぎたりしない．音量が小さすぎる場合はファンのノイズや他者の発話が聞こえる，音量が大きすぎる場合は振幅が±1 の範囲を超えて大きなノイズが混ざる（いわゆるクリッピング，音割れ）などが起こる．\n",
    "- 音が歪んでいない．\n",
    "- 発話の先頭や末尾が途切れていない．\n",
    "- 必要以上の無音区間がない．発話前後の無音区間の長さは1 秒未満を目安とする．無音区間が長すぎる場合はsox のtrim エフェクトを用いるとよい．"
   ]
  },
  {
   "cell_type": "code",
   "execution_count": null,
   "metadata": {},
   "outputs": [],
   "source": []
  }
 ],
 "metadata": {
  "kernelspec": {
   "display_name": "exp4-audio",
   "language": "python",
   "name": "python3"
  },
  "language_info": {
   "name": "python",
   "version": "3.8.18"
  }
 },
 "nbformat": 4,
 "nbformat_minor": 2
}
